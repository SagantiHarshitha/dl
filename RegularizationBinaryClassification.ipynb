{
  "nbformat": 4,
  "nbformat_minor": 0,
  "metadata": {
    "colab": {
      "provenance": [],
      "include_colab_link": true
    },
    "kernelspec": {
      "name": "python3",
      "display_name": "Python 3"
    },
    "language_info": {
      "name": "python"
    }
  },
  "cells": [
    {
      "cell_type": "markdown",
      "metadata": {
        "id": "view-in-github",
        "colab_type": "text"
      },
      "source": [
        "<a href=\"https://colab.research.google.com/github/SagantiHarshitha/dl/blob/main/RegularizationBinaryClassification.ipynb\" target=\"_parent\"><img src=\"https://colab.research.google.com/assets/colab-badge.svg\" alt=\"Open In Colab\"/></a>"
      ]
    },
    {
      "cell_type": "code",
      "execution_count": null,
      "metadata": {
        "colab": {
          "base_uri": "https://localhost:8080/"
        },
        "id": "FSCy-rRyzYmk",
        "outputId": "8a872fe1-994b-4f24-e6c2-0acee752a565"
      },
      "outputs": [
        {
          "output_type": "stream",
          "name": "stdout",
          "text": [
            "Downloading data from https://storage.googleapis.com/tensorflow/tf-keras-datasets/imdb.npz\n",
            "17464789/17464789 [==============================] - 1s 0us/step\n"
          ]
        }
      ],
      "source": [
        "\n",
        "from keras.datasets import imdb\n",
        "(train_data, train_labels), (test_data, test_labels) = imdb.load_data(num_words=10000)"
      ]
    },
    {
      "cell_type": "code",
      "source": [
        "train_data[0]"
      ],
      "metadata": {
        "colab": {
          "base_uri": "https://localhost:8080/"
        },
        "id": "_HdlipOc0I6g",
        "outputId": "0d01bd2f-022d-4a76-bec2-544b08392564"
      },
      "execution_count": null,
      "outputs": [
        {
          "output_type": "execute_result",
          "data": {
            "text/plain": [
              "[1,\n",
              " 14,\n",
              " 22,\n",
              " 16,\n",
              " 43,\n",
              " 530,\n",
              " 973,\n",
              " 1622,\n",
              " 1385,\n",
              " 65,\n",
              " 458,\n",
              " 4468,\n",
              " 66,\n",
              " 3941,\n",
              " 4,\n",
              " 173,\n",
              " 36,\n",
              " 256,\n",
              " 5,\n",
              " 25,\n",
              " 100,\n",
              " 43,\n",
              " 838,\n",
              " 112,\n",
              " 50,\n",
              " 670,\n",
              " 2,\n",
              " 9,\n",
              " 35,\n",
              " 480,\n",
              " 284,\n",
              " 5,\n",
              " 150,\n",
              " 4,\n",
              " 172,\n",
              " 112,\n",
              " 167,\n",
              " 2,\n",
              " 336,\n",
              " 385,\n",
              " 39,\n",
              " 4,\n",
              " 172,\n",
              " 4536,\n",
              " 1111,\n",
              " 17,\n",
              " 546,\n",
              " 38,\n",
              " 13,\n",
              " 447,\n",
              " 4,\n",
              " 192,\n",
              " 50,\n",
              " 16,\n",
              " 6,\n",
              " 147,\n",
              " 2025,\n",
              " 19,\n",
              " 14,\n",
              " 22,\n",
              " 4,\n",
              " 1920,\n",
              " 4613,\n",
              " 469,\n",
              " 4,\n",
              " 22,\n",
              " 71,\n",
              " 87,\n",
              " 12,\n",
              " 16,\n",
              " 43,\n",
              " 530,\n",
              " 38,\n",
              " 76,\n",
              " 15,\n",
              " 13,\n",
              " 1247,\n",
              " 4,\n",
              " 22,\n",
              " 17,\n",
              " 515,\n",
              " 17,\n",
              " 12,\n",
              " 16,\n",
              " 626,\n",
              " 18,\n",
              " 2,\n",
              " 5,\n",
              " 62,\n",
              " 386,\n",
              " 12,\n",
              " 8,\n",
              " 316,\n",
              " 8,\n",
              " 106,\n",
              " 5,\n",
              " 4,\n",
              " 2223,\n",
              " 5244,\n",
              " 16,\n",
              " 480,\n",
              " 66,\n",
              " 3785,\n",
              " 33,\n",
              " 4,\n",
              " 130,\n",
              " 12,\n",
              " 16,\n",
              " 38,\n",
              " 619,\n",
              " 5,\n",
              " 25,\n",
              " 124,\n",
              " 51,\n",
              " 36,\n",
              " 135,\n",
              " 48,\n",
              " 25,\n",
              " 1415,\n",
              " 33,\n",
              " 6,\n",
              " 22,\n",
              " 12,\n",
              " 215,\n",
              " 28,\n",
              " 77,\n",
              " 52,\n",
              " 5,\n",
              " 14,\n",
              " 407,\n",
              " 16,\n",
              " 82,\n",
              " 2,\n",
              " 8,\n",
              " 4,\n",
              " 107,\n",
              " 117,\n",
              " 5952,\n",
              " 15,\n",
              " 256,\n",
              " 4,\n",
              " 2,\n",
              " 7,\n",
              " 3766,\n",
              " 5,\n",
              " 723,\n",
              " 36,\n",
              " 71,\n",
              " 43,\n",
              " 530,\n",
              " 476,\n",
              " 26,\n",
              " 400,\n",
              " 317,\n",
              " 46,\n",
              " 7,\n",
              " 4,\n",
              " 2,\n",
              " 1029,\n",
              " 13,\n",
              " 104,\n",
              " 88,\n",
              " 4,\n",
              " 381,\n",
              " 15,\n",
              " 297,\n",
              " 98,\n",
              " 32,\n",
              " 2071,\n",
              " 56,\n",
              " 26,\n",
              " 141,\n",
              " 6,\n",
              " 194,\n",
              " 7486,\n",
              " 18,\n",
              " 4,\n",
              " 226,\n",
              " 22,\n",
              " 21,\n",
              " 134,\n",
              " 476,\n",
              " 26,\n",
              " 480,\n",
              " 5,\n",
              " 144,\n",
              " 30,\n",
              " 5535,\n",
              " 18,\n",
              " 51,\n",
              " 36,\n",
              " 28,\n",
              " 224,\n",
              " 92,\n",
              " 25,\n",
              " 104,\n",
              " 4,\n",
              " 226,\n",
              " 65,\n",
              " 16,\n",
              " 38,\n",
              " 1334,\n",
              " 88,\n",
              " 12,\n",
              " 16,\n",
              " 283,\n",
              " 5,\n",
              " 16,\n",
              " 4472,\n",
              " 113,\n",
              " 103,\n",
              " 32,\n",
              " 15,\n",
              " 16,\n",
              " 5345,\n",
              " 19,\n",
              " 178,\n",
              " 32]"
            ]
          },
          "metadata": {},
          "execution_count": 2
        }
      ]
    },
    {
      "cell_type": "code",
      "source": [
        "train_labels[0]"
      ],
      "metadata": {
        "colab": {
          "base_uri": "https://localhost:8080/"
        },
        "id": "9RUwoIJM0Ogk",
        "outputId": "b4cd641f-82c5-4c3f-f78a-3081053c5a07"
      },
      "execution_count": null,
      "outputs": [
        {
          "output_type": "execute_result",
          "data": {
            "text/plain": [
              "1"
            ]
          },
          "metadata": {},
          "execution_count": 3
        }
      ]
    },
    {
      "cell_type": "code",
      "source": [
        "max([max(sequence) for sequence in train_data])"
      ],
      "metadata": {
        "colab": {
          "base_uri": "https://localhost:8080/"
        },
        "id": "8dejRdq20SpR",
        "outputId": "2e7f41a9-b411-43df-e178-e99304399855"
      },
      "execution_count": null,
      "outputs": [
        {
          "output_type": "execute_result",
          "data": {
            "text/plain": [
              "9999"
            ]
          },
          "metadata": {},
          "execution_count": 4
        }
      ]
    },
    {
      "cell_type": "code",
      "source": [
        "word_index = imdb.get_word_index()\n",
        "reverse_word_index = dict(\n",
        "[(value, key) for (key, value) in word_index.items()])\n",
        "decoded_review = ' '.join(\n",
        "[reverse_word_index.get(i - 3, '?') for i in train_data[0]])"
      ],
      "metadata": {
        "colab": {
          "base_uri": "https://localhost:8080/"
        },
        "id": "QReIDmGM0X4i",
        "outputId": "d1ac33ce-c709-4ee6-ba81-7e3d08e590e2"
      },
      "execution_count": null,
      "outputs": [
        {
          "output_type": "stream",
          "name": "stdout",
          "text": [
            "Downloading data from https://storage.googleapis.com/tensorflow/tf-keras-datasets/imdb_word_index.json\n",
            "1641221/1641221 [==============================] - 1s 0us/step\n"
          ]
        }
      ]
    },
    {
      "cell_type": "code",
      "source": [
        "import numpy as np\n",
        "def vectorize_sequences(sequences, dimension=10000):\n",
        "  results = np.zeros((len(sequences), dimension))\n",
        "  for i, sequence in enumerate(sequences):\n",
        "    results[i, sequence] = 1.\n",
        "  return results\n",
        "x_train = vectorize_sequences(train_data)\n",
        "x_test = vectorize_sequences(test_data)"
      ],
      "metadata": {
        "id": "PdRT6S350c9I"
      },
      "execution_count": null,
      "outputs": []
    },
    {
      "cell_type": "code",
      "source": [
        "x_train[0]"
      ],
      "metadata": {
        "colab": {
          "base_uri": "https://localhost:8080/"
        },
        "id": "rpzNC6kg0h3T",
        "outputId": "bebc5615-0cb3-4935-9818-62b8e9dea72e"
      },
      "execution_count": null,
      "outputs": [
        {
          "output_type": "execute_result",
          "data": {
            "text/plain": [
              "array([0., 1., 1., ..., 0., 0., 0.])"
            ]
          },
          "metadata": {},
          "execution_count": 7
        }
      ]
    },
    {
      "cell_type": "code",
      "source": [
        "y_train = np.asarray(train_labels).astype('float32')\n",
        "y_test = np.asarray(test_labels).astype('float32')"
      ],
      "metadata": {
        "id": "gJvjUwF90msh"
      },
      "execution_count": null,
      "outputs": []
    },
    {
      "cell_type": "code",
      "source": [
        "from keras import models\n",
        "from keras import layers\n",
        "model = models.Sequential()\n",
        "model.add(layers.Dense(32, activation='relu', input_shape=(10000,)))\n",
        "model.add(layers.Dense(32, activation='relu'))\n",
        "model.add(layers.Dense(1, activation='sigmoid'))"
      ],
      "metadata": {
        "id": "-2ZbMgkD0qq7"
      },
      "execution_count": null,
      "outputs": []
    },
    {
      "cell_type": "code",
      "source": [
        "model.compile(optimizer='rmsprop',\n",
        "              loss='binary_crossentropy',\n",
        "              metrics=['accuracy'])"
      ],
      "metadata": {
        "id": "b959TLb60u9p"
      },
      "execution_count": null,
      "outputs": []
    },
    {
      "cell_type": "code",
      "source": [
        "from keras import optimizers\n",
        "model.compile(optimizer=optimizers.RMSprop(learning_rate=0.001),\n",
        "              loss='binary_crossentropy',\n",
        "              metrics=['accuracy'])"
      ],
      "metadata": {
        "id": "kd6HxgqD02uq"
      },
      "execution_count": null,
      "outputs": []
    },
    {
      "cell_type": "code",
      "source": [
        "from keras import losses\n",
        "from keras import metrics\n",
        "model.compile(optimizer=optimizers.RMSprop(learning_rate=0.001),\n",
        "                                       loss=losses.binary_crossentropy,\n",
        "                                       metrics=[metrics.binary_accuracy])"
      ],
      "metadata": {
        "id": "pUA6D1Hb1NVv"
      },
      "execution_count": null,
      "outputs": []
    },
    {
      "cell_type": "code",
      "source": [
        "x_val=x_train[:10000]\n",
        "partial_x_train=x_train[10000:]\n",
        "y_val=y_train[:10000]\n",
        "partial_y_train=y_train[10000:]"
      ],
      "metadata": {
        "id": "WU-d70421SYZ"
      },
      "execution_count": null,
      "outputs": []
    },
    {
      "cell_type": "code",
      "source": [
        "model.compile(optimizer='rmsprop',\n",
        "              loss='binary_crossentropy',\n",
        "              metrics=['accuracy'])\n",
        "history=model.fit(partial_x_train,partial_y_train,\n",
        "                  epochs=20,\n",
        "                  batch_size=512,\n",
        "                  validation_data=(x_val,y_val))"
      ],
      "metadata": {
        "colab": {
          "base_uri": "https://localhost:8080/"
        },
        "id": "ilzRiMtc1cpt",
        "outputId": "b3c73cee-aed1-4eef-f2fe-d8efbfc667b8"
      },
      "execution_count": null,
      "outputs": [
        {
          "output_type": "stream",
          "name": "stdout",
          "text": [
            "Epoch 1/20\n",
            "30/30 [==============================] - 3s 74ms/step - loss: 0.5391 - accuracy: 0.7607 - val_loss: 0.3887 - val_accuracy: 0.8692\n",
            "Epoch 2/20\n",
            "30/30 [==============================] - 1s 39ms/step - loss: 0.3189 - accuracy: 0.8881 - val_loss: 0.3030 - val_accuracy: 0.8841\n",
            "Epoch 3/20\n",
            "30/30 [==============================] - 2s 56ms/step - loss: 0.2333 - accuracy: 0.9167 - val_loss: 0.2948 - val_accuracy: 0.8797\n",
            "Epoch 4/20\n",
            "30/30 [==============================] - 2s 61ms/step - loss: 0.1877 - accuracy: 0.9342 - val_loss: 0.2871 - val_accuracy: 0.8832\n",
            "Epoch 5/20\n",
            "30/30 [==============================] - 1s 39ms/step - loss: 0.1570 - accuracy: 0.9459 - val_loss: 0.2928 - val_accuracy: 0.8848\n",
            "Epoch 6/20\n",
            "30/30 [==============================] - 2s 66ms/step - loss: 0.1313 - accuracy: 0.9557 - val_loss: 0.3840 - val_accuracy: 0.8616\n",
            "Epoch 7/20\n",
            "30/30 [==============================] - 3s 85ms/step - loss: 0.1130 - accuracy: 0.9634 - val_loss: 0.3059 - val_accuracy: 0.8834\n",
            "Epoch 8/20\n",
            "30/30 [==============================] - 3s 85ms/step - loss: 0.0964 - accuracy: 0.9683 - val_loss: 0.3629 - val_accuracy: 0.8685\n",
            "Epoch 9/20\n",
            "30/30 [==============================] - 2s 58ms/step - loss: 0.0782 - accuracy: 0.9778 - val_loss: 0.3432 - val_accuracy: 0.8803\n",
            "Epoch 10/20\n",
            "30/30 [==============================] - 2s 65ms/step - loss: 0.0646 - accuracy: 0.9820 - val_loss: 0.3691 - val_accuracy: 0.8753\n",
            "Epoch 11/20\n",
            "30/30 [==============================] - 2s 57ms/step - loss: 0.0536 - accuracy: 0.9858 - val_loss: 0.4214 - val_accuracy: 0.8657\n",
            "Epoch 12/20\n",
            "30/30 [==============================] - 1s 43ms/step - loss: 0.0495 - accuracy: 0.9872 - val_loss: 0.4149 - val_accuracy: 0.8769\n",
            "Epoch 13/20\n",
            "30/30 [==============================] - 1s 42ms/step - loss: 0.0375 - accuracy: 0.9900 - val_loss: 0.4400 - val_accuracy: 0.8756\n",
            "Epoch 14/20\n",
            "30/30 [==============================] - 1s 50ms/step - loss: 0.0262 - accuracy: 0.9948 - val_loss: 0.5515 - val_accuracy: 0.8656\n",
            "Epoch 15/20\n",
            "30/30 [==============================] - 2s 57ms/step - loss: 0.0185 - accuracy: 0.9974 - val_loss: 0.6694 - val_accuracy: 0.8510\n",
            "Epoch 16/20\n",
            "30/30 [==============================] - 1s 39ms/step - loss: 0.0232 - accuracy: 0.9944 - val_loss: 0.5908 - val_accuracy: 0.8642\n",
            "Epoch 17/20\n",
            "30/30 [==============================] - 1s 40ms/step - loss: 0.0115 - accuracy: 0.9993 - val_loss: 0.5379 - val_accuracy: 0.8732\n",
            "Epoch 18/20\n",
            "30/30 [==============================] - 1s 40ms/step - loss: 0.0205 - accuracy: 0.9946 - val_loss: 0.5594 - val_accuracy: 0.8733\n",
            "Epoch 19/20\n",
            "30/30 [==============================] - 2s 57ms/step - loss: 0.0067 - accuracy: 0.9998 - val_loss: 0.6096 - val_accuracy: 0.8658\n",
            "Epoch 20/20\n",
            "30/30 [==============================] - 2s 59ms/step - loss: 0.0223 - accuracy: 0.9933 - val_loss: 0.6004 - val_accuracy: 0.8704\n"
          ]
        }
      ]
    },
    {
      "cell_type": "code",
      "source": [
        "history_dict=history.history\n",
        "history_dict.keys()"
      ],
      "metadata": {
        "colab": {
          "base_uri": "https://localhost:8080/"
        },
        "id": "2X0uo7Ka1oQM",
        "outputId": "0139c98f-80ef-46f3-d07a-282484de986c"
      },
      "execution_count": null,
      "outputs": [
        {
          "output_type": "execute_result",
          "data": {
            "text/plain": [
              "dict_keys(['loss', 'accuracy', 'val_loss', 'val_accuracy'])"
            ]
          },
          "metadata": {},
          "execution_count": 15
        }
      ]
    },
    {
      "cell_type": "code",
      "source": [
        "import matplotlib.pyplot as plt\n",
        "history_dict=history.history\n",
        "loss_values=history_dict['loss']\n",
        "val_loss_values=history_dict['val_loss']\n",
        "epochs=range(1,len(history_dict['accuracy'])+1)\n",
        "plt.plot(epochs,loss_values,'g--',label='Training loss')\n",
        "plt.plot(epochs,val_loss_values,'r',label='Validation loss')\n",
        "plt.title('Training and validation loss')\n",
        "plt.xlabel('Epochs')\n",
        "plt.ylabel('Loss')\n",
        "plt.legend()\n",
        "plt.show()"
      ],
      "metadata": {
        "colab": {
          "base_uri": "https://localhost:8080/",
          "height": 472
        },
        "id": "nQivqtln1uI-",
        "outputId": "5dbb967a-0c75-472c-fb54-1be12a03bda3"
      },
      "execution_count": null,
      "outputs": [
        {
          "output_type": "display_data",
          "data": {
            "text/plain": [
              "<Figure size 640x480 with 1 Axes>"
            ],
            "image/png": "[encoded data removed]"
          },
          "metadata": {}
        }
      ]
    },
    {
      "cell_type": "code",
      "source": [
        "plt.clf()\n",
        "acc_values=history_dict['accuracy']\n",
        "val_acc_values=history_dict['val_accuracy']\n",
        "plt.plot(epochs,acc_values,'g--',label='Traning acc')\n",
        "plt.plot(epochs,val_acc_values,'r',label='Validation acc')\n",
        "plt.title('Trining and validation accuracy')\n",
        "plt.xlabel('Epochs')\n",
        "plt.ylabel('Loss')\n",
        "plt.legend()\n",
        "plt.show()"
      ],
      "metadata": {
        "id": "2CJ6Tgnu10W3",
        "outputId": "8c309695-97f8-4e69-e913-56ac03bed152",
        "colab": {
          "base_uri": "https://localhost:8080/",
          "height": 472
        }
      },
      "execution_count": null,
      "outputs": [
        {
          "output_type": "display_data",
          "data": {
            "text/plain": [
              "<Figure size 640x480 with 1 Axes>"
            ],
            "image/png": "[encoded data removed]"
          },
          "metadata": {}
        }
      ]
    }
  ]
}